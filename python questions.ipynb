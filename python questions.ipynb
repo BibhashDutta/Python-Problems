{
 "cells": [
  {
   "cell_type": "raw",
   "id": "1dacb1ca",
   "metadata": {},
   "source": [
    "Q. Find pair of number between 1 to 10 whose sum is a prime number\n",
    "1+2 = 3 Prime\n",
    "2+3 = 5 Prime\n",
    "[2,3,5,7]"
   ]
  },
  {
   "cell_type": "code",
   "execution_count": 78,
   "id": "728dc229",
   "metadata": {},
   "outputs": [
    {
     "name": "stdout",
     "output_type": "stream",
     "text": [
      "[1, 2]\n",
      "[1, 4]\n",
      "[1, 6]\n",
      "[1, 10]\n",
      "[2, 3]\n",
      "[2, 5]\n",
      "[2, 9]\n",
      "[3, 4]\n",
      "[3, 8]\n",
      "[3, 10]\n",
      "[4, 7]\n",
      "[4, 9]\n",
      "[5, 6]\n",
      "[5, 8]\n",
      "[6, 7]\n",
      "[7, 10]\n",
      "[8, 9]\n",
      "[9, 10]\n"
     ]
    }
   ],
   "source": [
    "def primeornot(n):\n",
    "    boo = True\n",
    "    if n ==1:\n",
    "        boo = False\n",
    "    else:\n",
    "        \n",
    "        for i in range(2,n):\n",
    "            if n%i ==0:\n",
    "                boo = False\n",
    "                break\n",
    "            else:\n",
    "                boo: True\n",
    "    return boo\n",
    "listofsum = []\n",
    "for i in range(1,11):\n",
    "    for j in range(i,11):\n",
    "        if i!=j:\n",
    "            listofsum.append([i,j])\n",
    "for k in listofsum:\n",
    "    if primeornot(sum(k))== True:\n",
    "        print(k)"
   ]
  },
  {
   "cell_type": "code",
   "execution_count": 75,
   "id": "b7fad6ca",
   "metadata": {},
   "outputs": [
    {
     "data": {
      "text/plain": [
       "False"
      ]
     },
     "execution_count": 75,
     "metadata": {},
     "output_type": "execute_result"
    }
   ],
   "source": [
    "\n",
    "primeornot(9)"
   ]
  }
 ],
 "metadata": {
  "kernelspec": {
   "display_name": "Python 3 (ipykernel)",
   "language": "python",
   "name": "python3"
  },
  "language_info": {
   "codemirror_mode": {
    "name": "ipython",
    "version": 3
   },
   "file_extension": ".py",
   "mimetype": "text/x-python",
   "name": "python",
   "nbconvert_exporter": "python",
   "pygments_lexer": "ipython3",
   "version": "3.9.7"
  }
 },
 "nbformat": 4,
 "nbformat_minor": 5
}
